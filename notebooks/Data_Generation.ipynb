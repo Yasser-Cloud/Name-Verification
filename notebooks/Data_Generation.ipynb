{
 "cells": [
  {
   "cell_type": "markdown",
   "id": "61e4f5cf-d414-4a40-910c-093b2bd87a58",
   "metadata": {},
   "source": [
    "In this notebook we going to read our data and create new dataset for training"
   ]
  },
  {
   "cell_type": "code",
   "execution_count": 1,
   "id": "89ef9586-79e4-4648-a824-88e637b0db72",
   "metadata": {},
   "outputs": [],
   "source": [
    "import os\n",
    "import pandas as pd\n",
    "import numpy as np\n",
    "import random\n"
   ]
  },
  {
   "cell_type": "code",
   "execution_count": 2,
   "id": "7b1a7fb9-238d-4669-a0df-ac73ab2e58f8",
   "metadata": {},
   "outputs": [],
   "source": [
    "pathf = os.path.dirname(os.path.dirname(os.path.abspath(__name__)))"
   ]
  },
  {
   "cell_type": "code",
   "execution_count": 3,
   "id": "944445a1-1c8a-4fb6-8ae3-db5e063eb4b1",
   "metadata": {},
   "outputs": [],
   "source": [
    "pathd=os.path.join(pathf ,'Datasets')"
   ]
  },
  {
   "cell_type": "code",
   "execution_count": 4,
   "id": "4934266a-e35c-467b-9610-50f0c88e1ad4",
   "metadata": {},
   "outputs": [
    {
     "name": "stdout",
     "output_type": "stream",
     "text": [
      "['وسيمة', 'صريحة', 'عتابة', 'مرهفة', 'أحلام', 'هائلة', 'كنزى', 'ماهرة', 'إعزاز', 'نصاحة', 'سنيحة', 'نبيلة', 'أميمة', 'تانيا', 'نادين', 'أنوار', 'سمية', 'مثابة', 'إسراء', 'رافقة'] \n",
      " 417\n"
     ]
    }
   ],
   "source": [
    "fname = open(os.path.join(pathd,'fnames.txt')).read()\n",
    "fname = fname.split(\"\\n\")\n",
    "print(random.sample(fname,20),'\\n',len(fname))"
   ]
  },
  {
   "cell_type": "code",
   "execution_count": 5,
   "id": "fa21b26f-85b0-428c-b137-e356dbc7479a",
   "metadata": {},
   "outputs": [
    {
     "name": "stdout",
     "output_type": "stream",
     "text": [
      "['حافظ', 'ملهم', 'خضر', 'مرشد', 'فاخر', 'عقاب', 'زايد', 'صديق', 'لطيف', 'سرمد', 'مناع', 'زاهي', 'حنبل', 'فيضي', 'جلال', 'سحيم', 'أشتر', 'عماد', 'مسعود', 'رشيد'] \n",
      " 641\n"
     ]
    }
   ],
   "source": [
    "mname = open(os.path.join(pathd,'mnames.txt')).read()\n",
    "mname = mname.split(\"\\n\")\n",
    "print(random.sample(mname,20),'\\n',len(mname))"
   ]
  },
  {
   "cell_type": "code",
   "execution_count": 6,
   "id": "71db2cb0-36fb-4a2a-8686-8dd784b5bfd2",
   "metadata": {},
   "outputs": [],
   "source": [
    "allname = pd.read_csv(os.path.join(pathd,'Arabic_names.csv'))"
   ]
  },
  {
   "cell_type": "code",
   "execution_count": 7,
   "id": "53a8f836-0798-4509-9872-8bc18a494f42",
   "metadata": {},
   "outputs": [
    {
     "data": {
      "text/html": [
       "<div>\n",
       "<style scoped>\n",
       "    .dataframe tbody tr th:only-of-type {\n",
       "        vertical-align: middle;\n",
       "    }\n",
       "\n",
       "    .dataframe tbody tr th {\n",
       "        vertical-align: top;\n",
       "    }\n",
       "\n",
       "    .dataframe thead th {\n",
       "        text-align: right;\n",
       "    }\n",
       "</style>\n",
       "<table border=\"1\" class=\"dataframe\">\n",
       "  <thead>\n",
       "    <tr style=\"text-align: right;\">\n",
       "      <th></th>\n",
       "      <th>Name</th>\n",
       "      <th>Gender</th>\n",
       "    </tr>\n",
       "  </thead>\n",
       "  <tbody>\n",
       "    <tr>\n",
       "      <th>281</th>\n",
       "      <td>سميحة</td>\n",
       "      <td>F</td>\n",
       "    </tr>\n",
       "    <tr>\n",
       "      <th>1254</th>\n",
       "      <td>مطاع</td>\n",
       "      <td>M</td>\n",
       "    </tr>\n",
       "    <tr>\n",
       "      <th>1065</th>\n",
       "      <td>عمر</td>\n",
       "      <td>M</td>\n",
       "    </tr>\n",
       "    <tr>\n",
       "      <th>1235</th>\n",
       "      <td>مزاحم</td>\n",
       "      <td>M</td>\n",
       "    </tr>\n",
       "    <tr>\n",
       "      <th>1185</th>\n",
       "      <td>لمعي</td>\n",
       "      <td>M</td>\n",
       "    </tr>\n",
       "    <tr>\n",
       "      <th>451</th>\n",
       "      <td>منتهى</td>\n",
       "      <td>F</td>\n",
       "    </tr>\n",
       "    <tr>\n",
       "      <th>147</th>\n",
       "      <td>حصة</td>\n",
       "      <td>F</td>\n",
       "    </tr>\n",
       "    <tr>\n",
       "      <th>823</th>\n",
       "      <td>ريان</td>\n",
       "      <td>M</td>\n",
       "    </tr>\n",
       "    <tr>\n",
       "      <th>1194</th>\n",
       "      <td>ماهر</td>\n",
       "      <td>M</td>\n",
       "    </tr>\n",
       "    <tr>\n",
       "      <th>992</th>\n",
       "      <td>عبدالعظيم</td>\n",
       "      <td>M</td>\n",
       "    </tr>\n",
       "  </tbody>\n",
       "</table>\n",
       "</div>"
      ],
      "text/plain": [
       "           Name Gender\n",
       "281       سميحة      F\n",
       "1254       مطاع      M\n",
       "1065        عمر      M\n",
       "1235      مزاحم      M\n",
       "1185       لمعي      M\n",
       "451       منتهى      F\n",
       "147         حصة      F\n",
       "823        ريان      M\n",
       "1194       ماهر      M\n",
       "992   عبدالعظيم      M"
      ]
     },
     "execution_count": 7,
     "metadata": {},
     "output_type": "execute_result"
    }
   ],
   "source": [
    "allname.sample(10)"
   ]
  },
  {
   "cell_type": "code",
   "execution_count": 8,
   "id": "e0079ee3-3581-4351-b90c-f80a1d3f2e34",
   "metadata": {},
   "outputs": [
    {
     "data": {
      "text/html": [
       "<div>\n",
       "<style scoped>\n",
       "    .dataframe tbody tr th:only-of-type {\n",
       "        vertical-align: middle;\n",
       "    }\n",
       "\n",
       "    .dataframe tbody tr th {\n",
       "        vertical-align: top;\n",
       "    }\n",
       "\n",
       "    .dataframe thead th {\n",
       "        text-align: right;\n",
       "    }\n",
       "</style>\n",
       "<table border=\"1\" class=\"dataframe\">\n",
       "  <thead>\n",
       "    <tr style=\"text-align: right;\">\n",
       "      <th></th>\n",
       "      <th>Name</th>\n",
       "      <th>Gender</th>\n",
       "    </tr>\n",
       "  </thead>\n",
       "  <tbody>\n",
       "    <tr>\n",
       "      <th>1013</th>\n",
       "      <td>عبدربه</td>\n",
       "      <td>M</td>\n",
       "    </tr>\n",
       "    <tr>\n",
       "      <th>1237</th>\n",
       "      <td>مزهر</td>\n",
       "      <td>M</td>\n",
       "    </tr>\n",
       "    <tr>\n",
       "      <th>813</th>\n",
       "      <td>رفيع</td>\n",
       "      <td>M</td>\n",
       "    </tr>\n",
       "    <tr>\n",
       "      <th>690</th>\n",
       "      <td>جمال</td>\n",
       "      <td>M</td>\n",
       "    </tr>\n",
       "    <tr>\n",
       "      <th>1234</th>\n",
       "      <td>مروان</td>\n",
       "      <td>M</td>\n",
       "    </tr>\n",
       "    <tr>\n",
       "      <th>1242</th>\n",
       "      <td>مسلم</td>\n",
       "      <td>M</td>\n",
       "    </tr>\n",
       "    <tr>\n",
       "      <th>1294</th>\n",
       "      <td>منتصر</td>\n",
       "      <td>M</td>\n",
       "    </tr>\n",
       "    <tr>\n",
       "      <th>1000</th>\n",
       "      <td>عبدالكريم</td>\n",
       "      <td>M</td>\n",
       "    </tr>\n",
       "    <tr>\n",
       "      <th>971</th>\n",
       "      <td>عبدالجليل</td>\n",
       "      <td>M</td>\n",
       "    </tr>\n",
       "    <tr>\n",
       "      <th>578</th>\n",
       "      <td>أزور</td>\n",
       "      <td>M</td>\n",
       "    </tr>\n",
       "  </tbody>\n",
       "</table>\n",
       "</div>"
      ],
      "text/plain": [
       "           Name Gender\n",
       "1013     عبدربه      M\n",
       "1237       مزهر      M\n",
       "813        رفيع      M\n",
       "690        جمال      M\n",
       "1234      مروان      M\n",
       "1242       مسلم      M\n",
       "1294      منتصر      M\n",
       "1000  عبدالكريم      M\n",
       "971   عبدالجليل      M\n",
       "578        أزور      M"
      ]
     },
     "execution_count": 8,
     "metadata": {},
     "output_type": "execute_result"
    }
   ],
   "source": [
    "allname[allname['Gender'] == 'M'].sample(10)"
   ]
  },
  {
   "cell_type": "code",
   "execution_count": 9,
   "id": "a4cdee26-aed5-4aea-ad62-bbe5aa596f93",
   "metadata": {},
   "outputs": [
    {
     "data": {
      "text/plain": [
       "M    853\n",
       "F    552\n",
       "Name: Gender, dtype: int64"
      ]
     },
     "execution_count": 9,
     "metadata": {},
     "output_type": "execute_result"
    }
   ],
   "source": [
    "allname['Gender'].value_counts()"
   ]
  },
  {
   "cell_type": "code",
   "execution_count": 10,
   "id": "d16d5081-c0f9-4495-81c2-3eb000505fc9",
   "metadata": {},
   "outputs": [],
   "source": [
    "male = allname[allname['Gender'] == 'M']\n"
   ]
  },
  {
   "cell_type": "code",
   "execution_count": 11,
   "id": "b6baf0f9-ad8d-404f-ac57-acabfa5809b4",
   "metadata": {},
   "outputs": [],
   "source": [
    "def real_names(samples):\n",
    "    \"\"\"This function generate real names and the result in Nname.csv\"\"\"\n",
    "    if not os.path.exists(os.path.join(pathd,'Nname.csv')):\n",
    "        f = open(os.path.join(pathd,'Nname.csv'), \"w\")\n",
    "        f.write('Name'+','+'Real'+'\\n')\n",
    "        f.close()\n",
    "    f = open(os.path.join(pathd,'Nname.csv'), \"a\")\n",
    "    for i in range(samples):\n",
    "        result = ' '.join(random.choice(allname['Name'].values ) for _ in range(1))\n",
    "        result1= ' '.join(random.choice(allname[allname['Gender'] == 'M']['Name'].values ) for _ in range(2))\n",
    "        \n",
    "        f.write(result+' '+result1+','+'1'+'\\n')\n",
    "    f.close()\n",
    "\n",
    "real_names(30000)\n",
    "\n"
   ]
  },
  {
   "cell_type": "code",
   "execution_count": 12,
   "id": "0ffa4155-b520-4341-9cc0-0d4a050661f3",
   "metadata": {},
   "outputs": [],
   "source": [
    "class Name_modification():\n",
    "    ar_chars = list(' أبجد هوز حطي كلمن سعفص قرشت ثخذ ضظغ'.replace(\" \", \"\"))\n",
    "    def add_char(self,name):\n",
    "        \"\"\"Repeat the last char in the given name ex:- احمد -> احمدد\"\"\"\n",
    "        self.name = list(name)\n",
    "        self.name.append(self.name[-1])\n",
    "        return ''.join(self.name)\n",
    "    \n",
    "    def remove_char(self,name):\n",
    "        \"\"\"Remove the middle char in the given name ex:- السيد -> اليد\"\"\"\n",
    "        self.name = list(name)\n",
    "        mid = len(self.name)//2\n",
    "        self.name.pop(mid)\n",
    "        return ''.join(self.name)\n",
    "    \n",
    "    def change_char(self,name):\n",
    "        \"\"\"Change the middle char with random arabic char ex:- محمود -> محهود\"\"\"\n",
    "        self.name = list(name)\n",
    "        mid = len(self.name)//2\n",
    "        self.name[mid] = random.sample(self.ar_chars,1)[0]\n",
    "        return ''.join(self.name)\n",
    "        \n"
   ]
  },
  {
   "cell_type": "code",
   "execution_count": 13,
   "id": "1be24bc9-831e-47f5-b60c-148d446fbdfb",
   "metadata": {},
   "outputs": [],
   "source": [
    "def fake_names(samples):\n",
    "    \"\"\"This function generate fake names and the result in Nname.csv\"\"\"\n",
    "    faker = Name_modification()\n",
    "    operation =[faker.add_char,faker.remove_char,faker.change_char] #Contain all Name_modification operations\n",
    "    if not os.path.exists(os.path.join(pathd,'Nname.csv')):\n",
    "        f = open(os.path.join(pathd,'Nname.csv'), \"w\")\n",
    "        f.write('Name'+','+'Real'+'\\n')\n",
    "        f.close()\n",
    "    f = open(os.path.join(pathd,'Nname.csv'), \"a\")\n",
    "    for i in range(samples):\n",
    "        result = random.choices(allname['Name'].values ,k = 3) \n",
    "        \n",
    "        output = [op(result[ind]) for ind,op in enumerate(random.choices(operation, k=3)) ]\n",
    "        \n",
    "       \n",
    "        f.write(' '.join(output)+','+'0'+'\\n')\n",
    "    f.close()\n",
    "fake_names(30000)"
   ]
  },
  {
   "cell_type": "code",
   "execution_count": 14,
   "id": "f489b716-e1de-4c3f-bec6-901af7b18eec",
   "metadata": {},
   "outputs": [
    {
     "data": {
      "text/html": [
       "<div>\n",
       "<style scoped>\n",
       "    .dataframe tbody tr th:only-of-type {\n",
       "        vertical-align: middle;\n",
       "    }\n",
       "\n",
       "    .dataframe tbody tr th {\n",
       "        vertical-align: top;\n",
       "    }\n",
       "\n",
       "    .dataframe thead th {\n",
       "        text-align: right;\n",
       "    }\n",
       "</style>\n",
       "<table border=\"1\" class=\"dataframe\">\n",
       "  <thead>\n",
       "    <tr style=\"text-align: right;\">\n",
       "      <th></th>\n",
       "      <th>Name</th>\n",
       "      <th>Real</th>\n",
       "    </tr>\n",
       "  </thead>\n",
       "  <tbody>\n",
       "    <tr>\n",
       "      <th>47099</th>\n",
       "      <td>نصارر رهيفف بطظس</td>\n",
       "      <td>0</td>\n",
       "    </tr>\n",
       "    <tr>\n",
       "      <th>51065</th>\n",
       "      <td>جسس باسمم أيوبب</td>\n",
       "      <td>0</td>\n",
       "    </tr>\n",
       "    <tr>\n",
       "      <th>11780</th>\n",
       "      <td>بشير زاهر ثروت</td>\n",
       "      <td>1</td>\n",
       "    </tr>\n",
       "    <tr>\n",
       "      <th>55022</th>\n",
       "      <td>جبلل ليدل سرد</td>\n",
       "      <td>0</td>\n",
       "    </tr>\n",
       "    <tr>\n",
       "      <th>13668</th>\n",
       "      <td>رمزي ضيغم صديق</td>\n",
       "      <td>1</td>\n",
       "    </tr>\n",
       "    <tr>\n",
       "      <th>12416</th>\n",
       "      <td>ماهة حفص طارق</td>\n",
       "      <td>1</td>\n",
       "    </tr>\n",
       "    <tr>\n",
       "      <th>44492</th>\n",
       "      <td>زايدد هزوع أشم</td>\n",
       "      <td>0</td>\n",
       "    </tr>\n",
       "    <tr>\n",
       "      <th>32578</th>\n",
       "      <td>أمالل مهيوبب عنر</td>\n",
       "      <td>0</td>\n",
       "    </tr>\n",
       "    <tr>\n",
       "      <th>37550</th>\n",
       "      <td>أسازير نوول عمادد</td>\n",
       "      <td>0</td>\n",
       "    </tr>\n",
       "    <tr>\n",
       "      <th>42366</th>\n",
       "      <td>عبداغفتاح شوكي تمم</td>\n",
       "      <td>0</td>\n",
       "    </tr>\n",
       "  </tbody>\n",
       "</table>\n",
       "</div>"
      ],
      "text/plain": [
       "                     Name  Real\n",
       "47099    نصارر رهيفف بطظس     0\n",
       "51065     جسس باسمم أيوبب     0\n",
       "11780      بشير زاهر ثروت     1\n",
       "55022       جبلل ليدل سرد     0\n",
       "13668      رمزي ضيغم صديق     1\n",
       "12416       ماهة حفص طارق     1\n",
       "44492      زايدد هزوع أشم     0\n",
       "32578    أمالل مهيوبب عنر     0\n",
       "37550   أسازير نوول عمادد     0\n",
       "42366  عبداغفتاح شوكي تمم     0"
      ]
     },
     "execution_count": 14,
     "metadata": {},
     "output_type": "execute_result"
    }
   ],
   "source": [
    "new_name = pd.read_csv(os.path.join(pathd,'Nname.csv'))\n",
    "new_name.sample(10)"
   ]
  },
  {
   "cell_type": "code",
   "execution_count": 16,
   "id": "c4ce0cf2-db8c-4ab0-840a-663bcd4464c0",
   "metadata": {},
   "outputs": [
    {
     "data": {
      "text/plain": [
       "1    30000\n",
       "0    30000\n",
       "Name: Real, dtype: int64"
      ]
     },
     "execution_count": 16,
     "metadata": {},
     "output_type": "execute_result"
    }
   ],
   "source": [
    "new_name['Real'].value_counts()"
   ]
  },
  {
   "cell_type": "code",
   "execution_count": null,
   "id": "cb7f2a8c-7078-4875-9765-66f92a581eff",
   "metadata": {},
   "outputs": [],
   "source": []
  }
 ],
 "metadata": {
  "kernelspec": {
   "display_name": "Python 3 (ipykernel)",
   "language": "python",
   "name": "python3"
  },
  "language_info": {
   "codemirror_mode": {
    "name": "ipython",
    "version": 3
   },
   "file_extension": ".py",
   "mimetype": "text/x-python",
   "name": "python",
   "nbconvert_exporter": "python",
   "pygments_lexer": "ipython3",
   "version": "3.9.7"
  }
 },
 "nbformat": 4,
 "nbformat_minor": 5
}
